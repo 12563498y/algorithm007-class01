{
 "cells": [
  {
   "cell_type": "code",
   "execution_count": 1,
   "metadata": {},
   "outputs": [
    {
     "data": {
      "text/plain": [
       "[1, 3, 12, 0, 0]"
      ]
     },
     "execution_count": 1,
     "metadata": {},
     "output_type": "execute_result"
    }
   ],
   "source": [
    "#给定一个数组 nums，编写一个函数将所有 0 移动到数组的末尾，同时保持非零元素的相对顺序。\n",
    "class Solution:\n",
    "    def moveZeroes(self, nums) -> None:\n",
    "        \"\"\"\n",
    "        Do not return anything, modify nums in-place instead.\n",
    "        \"\"\"\n",
    "        i = j = 0\n",
    "        for i in range(len(nums)):\n",
    "            if nums[i] != 0:\n",
    "                nums[i],nums[j] = nums[j],nums[i]\n",
    "                j += 1\n",
    "        return nums\n",
    "Solution().moveZeroes([1,0,3,0,12])"
   ]
  },
  {
   "cell_type": "code",
   "execution_count": 2,
   "metadata": {},
   "outputs": [
    {
     "data": {
      "text/plain": [
       "[1, 2]"
      ]
     },
     "execution_count": 2,
     "metadata": {},
     "output_type": "execute_result"
    }
   ],
   "source": [
    "#两数之和 \n",
    "\"\"\"\n",
    "  先创建一个空字典，\n",
    "  #然后依次把target-nums[x]的值存入字典，存入一个就跟nums[x+1]去比较， \n",
    "  #字典中的key为target-nums[x],value为x，也就是nums[x]在nums列表中的索引位置。\n",
    "  #当字典d中有nums[x+1]时，也就是target - nums[y] = nums[x+1] , y肯定是小于x+1的(因为y是x+1之前循环过的数字)\n",
    " \"\"\"\n",
    "class Solution:\n",
    "    def twoSum(self,num,target):\n",
    "        if len(num)<0:\n",
    "            return False\n",
    "        dict1 = {}\n",
    "        for i in range(len(num)):\n",
    "            if num[i] in dict1:\n",
    "                return [dict1[num[i]],i]\n",
    "            else:\n",
    "                dict1[target - num[i]] = i\n",
    "Solution().twoSum([3,2,4],6)"
   ]
  },
  {
   "cell_type": "code",
   "execution_count": 3,
   "metadata": {},
   "outputs": [
    {
     "data": {
      "text/plain": [
       "2"
      ]
     },
     "execution_count": 3,
     "metadata": {},
     "output_type": "execute_result"
    }
   ],
   "source": [
    "#删除重复元素\n",
    "\"\"\"\n",
    "class Solution():\n",
    "    def removeDuplicates(self,num):\n",
    "        i = 0\n",
    "        while i < len(num)-1:\n",
    "            if num[i] == num [i+1]:\n",
    "                del num[i]\n",
    "            else:\n",
    "                i += 1\n",
    "        return len(num)\n",
    "\"\"\"\n",
    "class Solution():\n",
    "    def removeDuplicates(self,num):\n",
    "        flag = 0\n",
    "        if len(num)==0:\n",
    "            return flag\n",
    "        for i in range(1,len(num)):\n",
    "            if num[i]!= num[flag]:\n",
    "                flag += 1\n",
    "                num[flag] = num[i]\n",
    "        return flag+1\n",
    "Solution().removeDuplicates([1,1,2])"
   ]
  },
  {
   "cell_type": "code",
   "execution_count": 4,
   "metadata": {},
   "outputs": [
    {
     "data": {
      "text/plain": [
       "[5, 6, 7, 1, 2, 3, 4]"
      ]
     },
     "execution_count": 4,
     "metadata": {},
     "output_type": "execute_result"
    }
   ],
   "source": [
    "#旋转数组\n",
    "\"\"\"\n",
    "对于[1,2,3,4,5,6,7][1,2,3,4,5,6,7]，\n",
    "根据k=k%n，将数组分为两段：\n",
    "\n",
    "第一段，对应数组下标范围[0,n-k-1][0,n−k−1]段，即[1,2,3,4]\n",
    "第二段，对应数组下标范围[n-k,n-1][n−k,n−1]，即[5,6,7]\n",
    "分为三步：\n",
    "\n",
    "反转第一段，[4,3,2,1,5,6,7]\n",
    "反转第二段，[4,3,2,1,7,6,5]\n",
    "反转整体，[5,6,7,1,2,3,4]\n",
    "完成！\n",
    "\n",
    "\"\"\"\n",
    "class Solution:\n",
    "    def rotate(self,num,k):\n",
    "        n = len(num)\n",
    "        k = k % n\n",
    "        def swap(l,r):\n",
    "            while(l<r):\n",
    "                num[l], num[r] = num[r], num[l]\n",
    "                l += 1\n",
    "                r -= 1\n",
    "        swap(0,n-k-1)\n",
    "        swap(n-k,n-1)\n",
    "        swap(0,n-1)\n",
    "        return num\n",
    "Solution().rotate([1,2,3,4,5,6,7],3)"
   ]
  },
  {
   "cell_type": "code",
   "execution_count": 5,
   "metadata": {},
   "outputs": [
    {
     "data": {
      "text/plain": [
       "[1, 2, 2, 3, 5, 6]"
      ]
     },
     "execution_count": 5,
     "metadata": {},
     "output_type": "execute_result"
    }
   ],
   "source": [
    "\"\"\"\n",
    "class solution():\n",
    "    def merge(self,nums1,m,nums2,n):\n",
    "        nums1[:] = sorted(nums1[:m] + nums2)\n",
    "        return nums1\n",
    "\"\"\"\n",
    "#时间复杂度为O(m+n)\n",
    "#从结尾改写nums1的值，指针P用于追踪添加元素的位置\n",
    "class solution():\n",
    "    def merge(self,nums1,m,nums2,n):\n",
    "        p1 = m - 1  #nums1保留的索引\n",
    "        p2 = n - 1  #nums2保留的索引\n",
    "        p = m + n - 1 #添加元素之和的总索引\n",
    "        while p1 >= 0 and p2 >= 0: \n",
    "            if nums1[p1] <= nums2[p2]:#当nums2中添加的最后一个数大于nums1中的数时\n",
    "                nums1[p] = nums2[p2] #添加至nums1的尾端，p2继续向前移动\n",
    "                p2 -= 1\n",
    "            else:                   #当nums2中添加的最后一个数小于nums1中的数时\n",
    "                nums1[p] = nums1[p1] #将nums1中的元素添加至nums1的尾端\n",
    "                p1 -= 1              #前面nums1的数与nums2的数继续进行比较\n",
    "            p -= 1 #p向前移动\n",
    "        nums1[p-p2:p2 + 1] = nums2[:p2 + 1] #添加丢失的元素 不懂最后一行代码\n",
    "        return nums1\n",
    "solution().merge([1,2,3,0,0,0],3,[2,5,6],3)"
   ]
  },
  {
   "cell_type": "code",
   "execution_count": 6,
   "metadata": {},
   "outputs": [
    {
     "data": {
      "text/plain": [
       "[1, 0, 0]"
      ]
     },
     "execution_count": 6,
     "metadata": {},
     "output_type": "execute_result"
    }
   ],
   "source": [
    "#加1操作\n",
    "\"\"\"\n",
    "class solution():\n",
    "    def plusOne(self,digits):\n",
    "        sums = 0\n",
    "        for i in range(len(digits)):\n",
    "            sums += 10**(len(digits)-1-i)*digits[i]\n",
    "        sums_str = str(sums + 1)\n",
    "        return [int(j) for j in sums_str]\n",
    "\"\"\"\n",
    "class solution():\n",
    "    def plusOne(self,digits):\n",
    "        n = len(digits)-1\n",
    "        while True:\n",
    "            if digits[n] == 9 and n == 0:\n",
    "                digits[n] = 0\n",
    "                digits.insert(0,1)\n",
    "                break\n",
    "            elif digits[n] == 9:\n",
    "                digits[n] = 0\n",
    "                n -= 1\n",
    "            else:\n",
    "                digits[n] += 1\n",
    "                break\n",
    "        return digits\n",
    "\n",
    "solution().plusOne([9,9])"
   ]
  }
 ],
 "metadata": {
  "kernelspec": {
   "display_name": "Python 3",
   "language": "python",
   "name": "python3"
  },
  "language_info": {
   "codemirror_mode": {
    "name": "ipython",
    "version": 3
   },
   "file_extension": ".py",
   "mimetype": "text/x-python",
   "name": "python",
   "nbconvert_exporter": "python",
   "pygments_lexer": "ipython3",
   "version": "3.6.3"
  }
 },
 "nbformat": 4,
 "nbformat_minor": 2
}
